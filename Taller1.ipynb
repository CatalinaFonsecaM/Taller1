{
  "nbformat": 4,
  "nbformat_minor": 0,
  "metadata": {
    "colab": {
      "provenance": []
    },
    "kernelspec": {
      "name": "python3",
      "display_name": "Python 3"
    },
    "language_info": {
      "name": "python"
    }
  },
  "cells": [
    {
      "cell_type": "code",
      "execution_count": null,
      "metadata": {
        "id": "6tCgbJHq8wku"
      },
      "outputs": [],
      "source": [
        "def suma_enteros_division (a,b,c):\n",
        "  if type(a)==int and type (b) == int and type(c)==int:\n",
        "    if c==0:\n",
        "        print (\"elija un numero diferente a cero\")\n",
        "    else:\n",
        "        resultado = (a + b)/c\n",
        "        print (f\"el resultado es {resultado}\")\n",
        "  else:\n",
        "    print(\"elija numeros enteros\")\n",
        "\n"
      ]
    },
    {
      "cell_type": "code",
      "source": [
        "suma_enteros_division(\"l\",4,0)"
      ],
      "metadata": {
        "colab": {
          "base_uri": "https://localhost:8080/"
        },
        "id": "MD28cHQt-Pka",
        "outputId": "1ee98c87-840e-40e0-9804-1aedf69bbbb1"
      },
      "execution_count": null,
      "outputs": [
        {
          "output_type": "stream",
          "name": "stdout",
          "text": [
            "elija numeros enteros\n"
          ]
        }
      ]
    },
    {
      "cell_type": "markdown",
      "source": [
        "##Fonseca Martínez Catalina - 64191154\n",
        "##Chamorro Sánchez Jeffrey - 64191009"
      ],
      "metadata": {
        "id": "7rZE36k6EGk4"
      }
    },
    {
      "cell_type": "code",
      "source": [],
      "metadata": {
        "id": "ZikPcUdiAfaG"
      },
      "execution_count": null,
      "outputs": []
    }
  ]
}